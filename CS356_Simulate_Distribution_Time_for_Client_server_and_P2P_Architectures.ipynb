{
  "nbformat": 4,
  "nbformat_minor": 0,
  "metadata": {
    "colab": {
      "name": "CS356: Simulate Distribution Time for Client-server and P2P Architectures.ipynb",
      "provenance": [],
      "collapsed_sections": [],
      "authorship_tag": "ABX9TyPzV0zhRQQOwKkWo5ZG9YTP",
      "include_colab_link": true
    },
    "kernelspec": {
      "name": "python3",
      "display_name": "Python 3"
    },
    "language_info": {
      "name": "python"
    }
  },
  "cells": [
    {
      "cell_type": "markdown",
      "metadata": {
        "id": "view-in-github",
        "colab_type": "text"
      },
      "source": [
        "<a href=\"https://colab.research.google.com/github/SahilBamb/ClientServerVsPeertoPeerSim/blob/main/CS356_Simulate_Distribution_Time_for_Client_server_and_P2P_Architectures.ipynb\" target=\"_parent\"><img src=\"https://colab.research.google.com/assets/colab-badge.svg\" alt=\"Open In Colab\"/></a>"
      ]
    },
    {
      "cell_type": "markdown",
      "metadata": {
        "id": "qglNqcCkfT72"
      },
      "source": [
        "Use your favorite code or excel (if you don't know programming), write a small program to simulate the minimum distribution time for both Client-server and P2P architectures. The submission will include 3 parts\n",
        "\n",
        "# 1. Part 1: Visual graph plotting both C-S and P2P architecture minimum file distribution time over a given number of computers.\n",
        "\n",
        "Parameters:\n",
        "\n",
        "X-axis: Number of Client 1,2,4,8,16,32,64,128,256\n",
        "\n",
        "Y-axis: Minimum distribution time\n",
        "\n",
        "File size F = 2000 Bytes\n",
        "\n",
        "Upload rate Server us = 10 #Bytes/sec\n",
        "\n",
        "Upload rate Client uc = 1 #Bytes/sec\n",
        "\n",
        "Download Rate Client dc = 2 #Bytes/sec "
      ]
    },
    {
      "cell_type": "code",
      "metadata": {
        "colab": {
          "base_uri": "https://localhost:8080/",
          "height": 557
        },
        "id": "D5sEDvakFmSK",
        "outputId": "f8e0f7b8-6353-4f4d-bc95-225c64af043a"
      },
      "source": [
        "import random\n",
        "from matplotlib import pyplot as plt\n",
        "from prettytable import PrettyTable \n",
        "\n",
        "#Number of Clients\n",
        "Clients = [1,2,4,8,16,32,64,128,256]\n",
        "\n",
        "#File Size F\n",
        "F = 2000 #Bytes \n",
        "\n",
        "#Upload rate for Server us\n",
        "serverUploadRate = us = 10 #Bytes/1c\n",
        "\n",
        "#Upload rate for each Client uc\n",
        "clientUploadRate = uc = 1 #Bytes/sec\n",
        "\n",
        "#Download Rate for each Client dc \n",
        "downloadRate = d = 2 #Bytes/sec \n",
        "\n",
        "#Peer-2-Peer Calculations\n",
        "def CalcP2P(F,us,uc,d,n):\n",
        "  up = F/us\n",
        "  dwn = F/d\n",
        "  pr = (n*F) / (us + (uc*n))\n",
        "  return max(max(up,dwn),pr)\n",
        "\n",
        "#Client-2-Server Calculations\n",
        "def CalcCS(F,us,d,n):\n",
        "  up = (n*F)/us\n",
        "  dwn = F/d\n",
        "  return max(up,dwn)\n",
        "\n",
        "def drawCSTable(Clients,ClientServerTime,ClientServerTimeSeconds):\n",
        "  print('Client Server Architecture')\n",
        "  myTable = PrettyTable(['Number of Clients']+Clients)\n",
        "  myTable.add_row(['Minimum File Distribution Time (Seconds)']+ClientServerTimeSeconds)\n",
        "  myTable.add_row(['Minimum File Distribution Time (Hours)']+ClientServerTime)\n",
        "  print(myTable)\n",
        "\n",
        "def drawP2PTable(Clients,P2PTime,P2PTimeSeconds):\n",
        "  print('Peer-2-Peer File Architecture')\n",
        "  myTable = PrettyTable(['Number of Clients']+Clients)\n",
        "  myTable.add_row(['Minimum File Distribution Time (Seconds)']+P2PTimeSeconds)\n",
        "  myTable.add_row(['Minimum File Distribution Time (Hours)']+P2PTime)\n",
        "  print(myTable)\n",
        "\n",
        "ClientServerTimeSeconds = [CalcCS(F,us,d,n) for n in Clients]\n",
        "ClientServerTime = [n/3600 for n in ClientServerTimeSeconds]\n",
        "\n",
        "\n",
        "P2PTimeSeconds = [CalcP2P(F,us,uc,d,n) for n in Clients]\n",
        "P2PTime = [n/3600 for n in P2PTimeSeconds]\n",
        "\n",
        "\n",
        "\n",
        "plt.plot(Clients,ClientServerTime,label='Client Server')\n",
        "plt.plot(Clients,P2PTime,label='Peer-2-Peer')\n",
        "plt.xlabel(\"N - Number of Clients\")\n",
        "plt.ylabel(\"Minimum Distribution Time (Hours)\")\n",
        "plt.title('Client-Server vs. P2P Simulation')\n",
        "plt.xscale('log', basex=2)\n",
        "plt.xticks(ticks=Clients)\n",
        "#plt.yticks(ticks=[_ for _ in range(1,14,1)]) \n",
        "plt.legend(loc='upper center')\n",
        "plt.show()\n",
        "\n",
        "drawCSTable(Clients,ClientServerTime,ClientServerTimeSeconds)\n",
        "drawP2PTable(Clients,P2PTime,P2PTimeSeconds)\n",
        "\n"
      ],
      "execution_count": null,
      "outputs": [
        {
          "output_type": "display_data",
          "data": {
            "image/png": "[encoded data removed]",
            "text/plain": [
              "<Figure size 432x288 with 1 Axes>"
            ]
          },
          "metadata": {
            "needs_background": "light"
          }
        },
        {
          "output_type": "stream",
          "name": "stdout",
          "text": [
            "Client Server Architecture\n",
            "+------------------------------------------+--------------------+--------------------+--------------------+--------------------+--------------------+--------------------+--------------------+-------------------+--------------------+\n",
            "|            Number of Clients             |         1          |         2          |         4          |         8          |         16         |         32         |         64         |        128        |        256         |\n",
            "+------------------------------------------+--------------------+--------------------+--------------------+--------------------+--------------------+--------------------+--------------------+-------------------+--------------------+\n",
            "| Minimum File Distribution Time (Seconds) |       1000.0       |       1000.0       |       1000.0       |       1600.0       |       3200.0       |       6400.0       |      12800.0       |      25600.0      |      51200.0       |\n",
            "|  Minimum File Distribution Time (Hours)  | 0.2777777777777778 | 0.2777777777777778 | 0.2777777777777778 | 0.4444444444444444 | 0.8888888888888888 | 1.7777777777777777 | 3.5555555555555554 | 7.111111111111111 | 14.222222222222221 |\n",
            "+------------------------------------------+--------------------+--------------------+--------------------+--------------------+--------------------+--------------------+--------------------+-------------------+--------------------+\n",
            "Peer-2-Peer File Architecture\n",
            "+------------------------------------------+--------------------+--------------------+--------------------+--------------------+--------------------+--------------------+--------------------+--------------------+--------------------+\n",
            "|            Number of Clients             |         1          |         2          |         4          |         8          |         16         |         32         |         64         |        128         |        256         |\n",
            "+------------------------------------------+--------------------+--------------------+--------------------+--------------------+--------------------+--------------------+--------------------+--------------------+--------------------+\n",
            "| Minimum File Distribution Time (Seconds) |       1000.0       |       1000.0       |       1000.0       |       1000.0       | 1230.7692307692307 | 1523.8095238095239 | 1729.7297297297298 | 1855.072463768116  | 1924.812030075188  |\n",
            "|  Minimum File Distribution Time (Hours)  | 0.2777777777777778 | 0.2777777777777778 | 0.2777777777777778 | 0.2777777777777778 | 0.3418803418803419 | 0.4232804232804233 | 0.4804804804804805 | 0.5152979066022545 | 0.5346700083542189 |\n",
            "+------------------------------------------+--------------------+--------------------+--------------------+--------------------+--------------------+--------------------+--------------------+--------------------+--------------------+\n"
          ]
        }
      ]
    },
    {
      "cell_type": "code",
      "metadata": {
        "id": "TjVKl7aBONKP"
      },
      "source": [
        ""
      ],
      "execution_count": null,
      "outputs": []
    },
    {
      "cell_type": "markdown",
      "metadata": {
        "id": "0n1RKHOcfeix"
      },
      "source": [
        "#2. Part 2: Explain what your approach and brief me what you did in your code\n",
        "\n",
        "#Calculations Code Description \n",
        "To start, I loaded all of the parameters like number of clients, file size, upload rate of the server, upload rate of each client and download rate of each client as variables. Number of clients was loaded into a list. Then I defined the functions for calculating the minimum time for Peer-2-Peer and Client Server architectures. \n",
        "\n",
        "For Client Server architectures this is the greater of two values. The first of these is the upload time of the server, so file size divided by server upload rate, times the number of clients. The second is the download speed of the slowest client or file size divided by download rate. So the function basically does these calculations, given the parameters, and returns the minimum file distribution time. \n",
        "\n",
        "For Peer-2-Peer architectures this is the greater of three values. The first of these is the upload time of the server times, so file size divided by server upload rate. The second is the download speed of the slowest client or file size divided by download rate. And the third is the file size times the number of clients, divided by the total upload speed. The total upload speed is the upload speed of all clients and the server. The function does all these calculations, given the parameter and returns the minimum file distribution time. \n",
        "\n",
        "Finally, list comprehensions are used along with these functions to create new lists that calculate the minimum file distribution time for client server architectures and for peer-2-peer architectures. One of these lists is made in seconds and the other is made in hours by dividing each value by 36000.\n",
        "\n",
        "#Visualization Code Description \n",
        "\n",
        "Using the pyplot from the matplotlib library, these values were plotted onto the same grid. They both used the same client numbers so clients were placed on the x-axis and the minimum distribution time was placed on they y-axis. \n",
        "\n",
        "Additionally, tables were added using the prettytable library to provide exact values for the minimum distribution time in seconds and hours. "
      ]
    },
    {
      "cell_type": "markdown",
      "metadata": {
        "id": "noHsiX6Tfh0K"
      },
      "source": [
        "#3. Part 3: The actual code in your favorite language (This will showcase to me your coding and your code style)\n",
        "\n",
        "This was included above."
      ]
    }
  ]
}